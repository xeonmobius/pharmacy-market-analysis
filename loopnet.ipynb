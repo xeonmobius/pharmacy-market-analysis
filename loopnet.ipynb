{
 "cells": [
  {
   "cell_type": "code",
   "execution_count": 6,
   "metadata": {},
   "outputs": [],
   "source": [
    "import pandas as pd\n",
    "\n",
    "# Import selenium and its dependencies\n",
    "from selenium import webdriver\n",
    "from selenium.webdriver.common.by import By\n",
    "from selenium.webdriver.common.keys import Keys\n",
    "from selenium.webdriver.support.wait import WebDriverWait\n",
    "from selenium.webdriver.support import expected_conditions as EC\n",
    "from selenium.webdriver.firefox.options import Options\n",
    "from selenium.webdriver.support.select import Select\n"
   ]
  },
  {
   "cell_type": "code",
   "execution_count": 9,
   "metadata": {},
   "outputs": [],
   "source": [
    "# create a dataframe to hold the scrapped data\n",
    "df = pd.DataFrame()\n",
    "\n",
    "# Create Firefox options\n",
    "options = Options()\n",
    "\n",
    "# Disable tracking cookies\n",
    "options.set_preference(\"network.cookie.cookieBehavior\", 1)  # 1: Block third-party tracking cookies\n",
    "\n",
    "# Enable Enhanced Tracking Protection\n",
    "options.set_preference(\"privacy.trackingprotection.enabled\", True)\n",
    "\n",
    "user_agent = \"Mozilla/5.0 (Windows NT 10.0; Win64; x64) AppleWebKit/537.36 (KHTML, like Gecko) Chrome/42.0.2311.135 Safari/537.36 Edge/12.246\"\n",
    "\n",
    "options.set_preference(\"general.useragent.override\", user_agent)\n",
    "options.set_preference(\"privacy.resistFingerprinting\", True)\n",
    "options.set_preference(\"dom.webdriver.enabled\", False)\n",
    "options.set_preference(\"permissions.default.desktop-notification\", 2)\n",
    "\n",
    "\n",
    "# Create a Firefox driver with the configured options\n",
    "driver = webdriver.Firefox(options=options)\n"
   ]
  }
 ],
 "metadata": {
  "kernelspec": {
   "display_name": "Python 3",
   "language": "python",
   "name": "python3"
  },
  "language_info": {
   "codemirror_mode": {
    "name": "ipython",
    "version": 3
   },
   "file_extension": ".py",
   "mimetype": "text/x-python",
   "name": "python",
   "nbconvert_exporter": "python",
   "pygments_lexer": "ipython3",
   "version": "3.11.0"
  }
 },
 "nbformat": 4,
 "nbformat_minor": 2
}
