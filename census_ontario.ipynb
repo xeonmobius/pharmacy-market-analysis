{
 "cells": [
  {
   "cell_type": "code",
   "execution_count": 1,
   "metadata": {},
   "outputs": [],
   "source": [
    "import pandas as pd"
   ]
  },
  {
   "cell_type": "code",
   "execution_count": 7,
   "metadata": {},
   "outputs": [
    {
     "name": "stderr",
     "output_type": "stream",
     "text": [
      "C:\\Users\\shann\\AppData\\Local\\Temp\\ipykernel_2636\\1979354082.py:1: DtypeWarning: Columns (2633) have mixed types. Specify dtype option on import or set low_memory=False.\n",
      "  df = pd.read_csv(\"./csv/census_ontario.csv\")\n"
     ]
    }
   ],
   "source": [
    "df = pd.read_csv(\"./csv/census_ontario.csv\")"
   ]
  },
  {
   "cell_type": "code",
   "execution_count": 8,
   "metadata": {},
   "outputs": [],
   "source": [
    "columns = [\n",
    "    \"Population, 2021\",\n",
    "    \"Population, 2016\",\n",
    "    \"Population percentage change, 2016 to 2021\",\n",
    "    \"Total private dwellings\",\n",
    "    \"Population density per square kilometre\",\n",
    "    \"    Median after-tax income in 2020 among recipients ($)\",\n",
    "    \"  Median after-tax income of household in 2020 ($)\",\n",
    "    \"  65 years and over\",\n",
    "    \"  0 to 14 years\",\n",
    "    \"    15 to 19 years\",\n",
    "    \"    20 to 24 years\",\n",
    "    \"Median age of the population\",\n",
    "    \"  Owner\",\n",
    "    \"    Bachelor's degree or higher\",\n",
    "    \"Average household size\",\n",
    "    \"  All industries\",\n",
    "    \"    51 Information and cultural industries\",\n",
    "    \"    52 Finance and insurance\",\n",
    "    \"    53 Real estate and rental and leasing\",\n",
    "    \"    54 Professional, scientific and technical services\",\n",
    "    \"    55 Management of companies and enterprises\",\n",
    "    \"    56 Administrative and support, waste management and remediation services\",\n",
    "    \"    61 Educational services\",\n",
    "    \"    62 Health care and social assistance\",\n",
    "    \"    81 Other services (except public administration)\",\n",
    "    \"    91 Public administration\",\n",
    "    \"ALT_GEO_CODE\",\n",
    "    \"GEO_NAME\",\n",
    "]\n",
    "\n",
    "# Select the columns we want\n",
    "df = df[[*columns]]\n",
    "\n",
    "# we assume linear growth to extrapolate the population in 2026\n",
    "df[\"Population, 2026\"] = df[\"Population, 2021\"] * (\n",
    "    1 + df[\"Population percentage change, 2016 to 2021\"] / 100\n",
    ")\n",
    "\n",
    "# calculate the number of people between 0 to 24 years from the 0-14, 15-19, 20-24 years age groups\n",
    "df[\"0 to 24 years\"] = (\n",
    "    df[\"  0 to 14 years\"] + df[\"    15 to 19 years\"] + df[\"    20 to 24 years\"]\n",
    ")\n",
    "\n",
    "# calculate the number of people between 25 to 64 years by subtracting the 0 to 24 years and the 65 years and over age groups\n",
    "df[\"25 to 64 years\"] = df[\"Population, 2021\"] - (\n",
    "    df[\"  65 years and over\"] + df[\"0 to 24 years\"]\n",
    ")\n",
    "\n",
    "# we dont need these columns anymore\n",
    "df.drop(\n",
    "    [\"  0 to 14 years\", \"    15 to 19 years\", \"    20 to 24 years\"],\n",
    "    axis=1,\n",
    "    inplace=True,\n",
    ")\n",
    "\n",
    "# Calculate the percentage of white collar workers\n",
    "df[\"White Collar Workers\"] = (\n",
    "    df[\"    51 Information and cultural industries\"]\n",
    "    + df[\"    52 Finance and insurance\"]\n",
    "    + df[\"    53 Real estate and rental and leasing\"]\n",
    "    + df[\"    54 Professional, scientific and technical services\"]\n",
    "    + df[\"    55 Management of companies and enterprises\"]\n",
    "    + df[\"    56 Administrative and support, waste management and remediation services\"]\n",
    "    + df[\"    61 Educational services\"]\n",
    "    + df[\"    81 Other services (except public administration)\"]\n",
    "    + df[\"    91 Public administration\"]\n",
    ")\n",
    "df[\"White Collar Percentage\"] = (\n",
    "    df[\"White Collar Workers\"] / df[\"  All industries\"] * 100\n",
    ")\n",
    "\n",
    "# drop unnecessary columns\n",
    "df.drop(\n",
    "    columns=[\n",
    "        \"White Collar Workers\",\n",
    "        \"  All industries\",\n",
    "        \"    51 Information and cultural industries\",\n",
    "        \"    52 Finance and insurance\",\n",
    "        \"    53 Real estate and rental and leasing\",\n",
    "        \"    54 Professional, scientific and technical services\",\n",
    "        \"    55 Management of companies and enterprises\",\n",
    "        \"    56 Administrative and support, waste management and remediation services\",\n",
    "        \"    61 Educational services\",\n",
    "        \"    62 Health care and social assistance\",\n",
    "        \"    81 Other services (except public administration)\",\n",
    "        \"    91 Public administration\",\n",
    "    ],\n",
    "    inplace=True,\n",
    ")"
   ]
  },
  {
   "cell_type": "code",
   "execution_count": 91,
   "metadata": {},
   "outputs": [],
   "source": [
    "df.to_csv(\"./csv/census_ontario_selected_columns.csv\", index=False)"
   ]
  }
 ],
 "metadata": {
  "kernelspec": {
   "display_name": "Python 3",
   "language": "python",
   "name": "python3"
  },
  "language_info": {
   "codemirror_mode": {
    "name": "ipython",
    "version": 3
   },
   "file_extension": ".py",
   "mimetype": "text/x-python",
   "name": "python",
   "nbconvert_exporter": "python",
   "pygments_lexer": "ipython3",
   "version": "3.11.0"
  },
  "orig_nbformat": 4
 },
 "nbformat": 4,
 "nbformat_minor": 2
}
