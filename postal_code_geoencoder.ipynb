{
 "cells": [
  {
   "cell_type": "code",
   "execution_count": 1,
   "metadata": {},
   "outputs": [],
   "source": [
    "import pandas as pd\n",
    "import re \n",
    "\n",
    "postal_df = pd.read_csv('./csv/CA_full.csv')\n",
    "ocp_df = pd.read_csv('./csv/Fixed OCP Search.csv')\n",
    "cpso_df = pd.read_csv('./csv/doctors.csv')\n",
    "cpso_df = cpso_df[cpso_df.columns[1:]]"
   ]
  },
  {
   "cell_type": "code",
   "execution_count": 19,
   "metadata": {},
   "outputs": [],
   "source": [
    "ocp_combined_df = pd.merge(postal_df, ocp_df, left_on='Postal Code', right_on='Zip', how='right')"
   ]
  },
  {
   "cell_type": "code",
   "execution_count": 20,
   "metadata": {},
   "outputs": [],
   "source": [
    "ocp_combined_df.drop(['Zip', 'Address_2', 'City_x', 'Province'], axis=1, inplace=True)\n",
    "ocp_combined_df.rename(columns={'City_y': 'City'}, inplace=True)\n",
    "ocp_combined_df.to_csv('./csv/Fixed OCP Search.csv', index=False)"
   ]
  },
  {
   "cell_type": "code",
   "execution_count": 27,
   "metadata": {},
   "outputs": [],
   "source": [
    "pattern = r\"\\b[a-zA-Z]\\d[a-zA-Z] \\d[a-zA-Z]\\d\\b\"\n",
    "cpso_df['postal code'] = \"\"\n",
    "for iter, row in cpso_df.iterrows():\n",
    "    for item in row['address'].split(','):\n",
    "        postal_code = re.search(pattern, item)\n",
    "        if postal_code:\n",
    "            postal_code = postal_code.group()\n",
    "            row['postal code'] = postal_code"
   ]
  },
  {
   "cell_type": "code",
   "execution_count": 30,
   "metadata": {},
   "outputs": [],
   "source": [
    "cpso_combined_df = pd.merge(postal_df, cpso_df, left_on='Postal Code', right_on='postal code', how='right')\n",
    "cpso_combined_df.drop(['postal code', 'city', 'Province'], axis=1, inplace=True)"
   ]
  },
  {
   "cell_type": "code",
   "execution_count": 34,
   "metadata": {},
   "outputs": [],
   "source": [
    "cpso_combined_df.to_csv('./csv/doctors.csv', index=False)"
   ]
  },
  {
   "cell_type": "code",
   "execution_count": 2,
   "metadata": {},
   "outputs": [
    {
     "ename": "NameError",
     "evalue": "name 'cpso_combined_df' is not defined",
     "output_type": "error",
     "traceback": [
      "\u001b[1;31m---------------------------------------------------------------------------\u001b[0m",
      "\u001b[1;31mNameError\u001b[0m                                 Traceback (most recent call last)",
      "\u001b[1;32mc:\\Users\\shann\\OneDrive\\Desktop\\OCP_data_validation\\postal_code_geoencoder.ipynb Cell 7\u001b[0m line \u001b[0;36m1\n\u001b[1;32m----> <a href='vscode-notebook-cell:/c%3A/Users/shann/OneDrive/Desktop/OCP_data_validation/postal_code_geoencoder.ipynb#W6sZmlsZQ%3D%3D?line=0'>1</a>\u001b[0m cpso_combined_df\n",
      "\u001b[1;31mNameError\u001b[0m: name 'cpso_combined_df' is not defined"
     ]
    }
   ],
   "source": [
    "cpso_combined_df"
   ]
  }
 ],
 "metadata": {
  "kernelspec": {
   "display_name": "Python 3",
   "language": "python",
   "name": "python3"
  },
  "language_info": {
   "codemirror_mode": {
    "name": "ipython",
    "version": 3
   },
   "file_extension": ".py",
   "mimetype": "text/x-python",
   "name": "python",
   "nbconvert_exporter": "python",
   "pygments_lexer": "ipython3",
   "version": "3.11.0"
  },
  "orig_nbformat": 4
 },
 "nbformat": 4,
 "nbformat_minor": 2
}
