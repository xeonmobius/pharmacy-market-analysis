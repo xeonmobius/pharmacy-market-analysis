{
 "cells": [
  {
   "cell_type": "code",
   "execution_count": 2,
   "metadata": {},
   "outputs": [],
   "source": [
    "# make our imports\n",
    "import pandas as pd\n",
    "import matplotlib.pyplot as plt\n",
    "%matplotlib inline"
   ]
  },
  {
   "cell_type": "code",
   "execution_count": 8,
   "metadata": {},
   "outputs": [],
   "source": [
    "conditional_operate_df = pd.read_csv('OCP Operate Under Conditions.csv')\n",
    "operate_df = pd.read_csv('OCP Entitled to Operate.csv')\n",
    "closed_df = pd.read_csv('OCP Not Entitled to Operate.csv')\n",
    "\n",
    "# we want to remove sold and relocated pharmacies from the list to only have closed pharmacies\n",
    "closed_df = closed_df[closed_df['Status'] =='Closed']"
   ]
  },
  {
   "cell_type": "code",
   "execution_count": 9,
   "metadata": {},
   "outputs": [
    {
     "name": "stderr",
     "output_type": "stream",
     "text": [
      "C:\\Users\\shann\\AppData\\Local\\Temp\\ipykernel_24456\\527276137.py:7: FutureWarning: The default value of regex will change from True to False in a future version.\n",
      "  df['City'] = df['City'].str.replace('[^A-Za-z\\s]+', '')\n"
     ]
    }
   ],
   "source": [
    "def clean_city(df):\n",
    "    # rename cities with the more common name so it can be joined with other DFs\n",
    "    df['City'] = df['City'].str.replace(\"Bowmanville\", \"Clarington\")\n",
    "    df['City'] = df['City'].str.replace(\"Agincourt\", \"Scarborough\")\n",
    "    df['City'] = df['City'].str.replace(\"East York\", \"Toronto\")\n",
    "    df['City'] = df['City'].str.replace(\"North York\", \"Toronto\")\n",
    "    \n",
    "    # remove any special characters\n",
    "    df['City'] = df['City'].str.replace('[^A-Za-z\\s]+', '')\n",
    "    \n",
    "    # Remove any leading or trailing whitespace\n",
    "    df['City'] = df['City'].str.strip()\n",
    "    return df\n",
    "\n",
    "# call the function to clean the df\n",
    "conditional_operate_df = clean_city(conditional_operate_df)\n",
    "operate_df = clean_city(operate_df)\n",
    "closed_df = clean_city(closed_df)\n",
    "\n",
    "# combine the operate and operte under conditions df together to make the active pharmacies df \n",
    "combined_df = pd.concat([conditional_operate_df, operate_df])\n",
    "\n",
    "# save the value counts based on city \n",
    "combined_df['City'].value_counts().to_csv('./csv/combined.csv')\n",
    "closed_df['City'].value_counts().to_csv('./csv/closed.csv')    "
   ]
  }
 ],
 "metadata": {
  "kernelspec": {
   "display_name": "Python 3.11.0 64-bit",
   "language": "python",
   "name": "python3"
  },
  "language_info": {
   "codemirror_mode": {
    "name": "ipython",
    "version": 3
   },
   "file_extension": ".py",
   "mimetype": "text/x-python",
   "name": "python",
   "nbconvert_exporter": "python",
   "pygments_lexer": "ipython3",
   "version": "3.11.0"
  },
  "orig_nbformat": 4,
  "vscode": {
   "interpreter": {
    "hash": "c261aea317cc0286b3b3261fbba9abdec21eaa57589985bb7a274bf54d6cc0a7"
   }
  }
 },
 "nbformat": 4,
 "nbformat_minor": 2
}
