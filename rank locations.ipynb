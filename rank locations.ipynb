{
 "cells": [
  {
   "cell_type": "code",
   "execution_count": 1,
   "metadata": {},
   "outputs": [],
   "source": [
    "import pandas as pd"
   ]
  },
  {
   "cell_type": "code",
   "execution_count": 21,
   "metadata": {},
   "outputs": [],
   "source": [
    "# load all our census data into dataframes\n",
    "census_df = pd.read_csv('./csv/census_canada_scrape.csv')\n",
    "doctor_count = pd.read_csv('./csv/doctor_city_count.csv')\n",
    "closed_pharmacies_count = pd.read_csv('./csv/closed.csv')\n",
    "open_pharmacies_count = pd.read_csv('./csv/combined.csv')"
   ]
  },
  {
   "cell_type": "code",
   "execution_count": 22,
   "metadata": {},
   "outputs": [],
   "source": [
    "# Replace stoufville with more common name\n",
    "census_df[\"City\"] = census_df[\"City\"].str.replace(\n",
    "    \"WhitchurchStouffville\", \"Stouffville\"\n",
    ")\n",
    "\n",
    "# combine the doctor count with the census dataframe\n",
    "for index, city in doctor_count.iterrows():\n",
    "    census_df.loc[census_df[\"City\"] == city[0], \"Doctors\"] = city[1]\n",
    "\n",
    "# ratio of persons per doctor\n",
    "census_df[\"Population, 2021 / Doctors\"] = (\n",
    "    census_df[\"Population, 2021\"] / census_df[\"Doctors\"]\n",
    ")\n",
    "\n",
    "# combine the doctor count with the census dataframe\n",
    "for index, city in closed_pharmacies_count.iterrows():\n",
    "    census_df.loc[census_df[\"City\"] == city[0], \"Closed Pharmacies\"] = city[1]\n",
    "\n",
    "census_df[\"Population, 2021 / Closed Pharmacies\"] = (\n",
    "    census_df[\"Population, 2021\"] / census_df[\"Closed Pharmacies\"]\n",
    ")\n",
    "\n",
    "# combine the doctor count with the census dataframe\n",
    "for index, city in open_pharmacies_count.iterrows():\n",
    "    census_df.loc[census_df[\"City\"] == city[0], \"Open Pharmacies\"] = city[1]\n",
    "\n",
    "# Calculate the ratio of persons per pharmacy\n",
    "census_df[\"Population, 2021 / Open Pharmacies\"] = (\n",
    "    census_df[\"Population, 2021\"] / census_df[\"Open Pharmacies\"]\n",
    ")\n",
    "census_df[\"Population, 2026 / Open Pharmacies\"] = (\n",
    "    census_df[\"Population, 2026\"] / census_df[\"Open Pharmacies\"]\n",
    ")\n",
    "\n",
    "# Calculate the percentage of white collar workers\n",
    "census_df[\"White Collar Workers\"] = (\n",
    "    census_df[\"51 Information and cultural industries\"]\n",
    "    + census_df[\"52 Finance and insurance\"]\n",
    "    + census_df[\"53 Real estate and rental and leasing\"]\n",
    "    + census_df[\"54 Professional, scientific and technical services\"]\n",
    "    + census_df[\"55 Management of companies and enterprises\"]\n",
    "    + census_df[\n",
    "        \"56 Administrative and support, waste management and remediation services\"\n",
    "    ]\n",
    "    + census_df[\"61 Educational services\"]\n",
    "    + census_df[\"81 Other services (except public administration)\"]\n",
    "    + census_df[\"91 Public administration\"]\n",
    ")\n",
    "census_df[\"White Collar Percentage\"] = (\n",
    "    census_df[\"White Collar Workers\"] / census_df[\"All industries\"] * 100\n",
    ")\n",
    "\n",
    "# drop unnecessary columns\n",
    "census_df.drop(\n",
    "    columns=[\n",
    "        \"Population, 2021\",\n",
    "        \"Population, 2026\",\n",
    "        \"Population, 2016\",\n",
    "        \"White Collar Workers\",\n",
    "        \"All industries\",\n",
    "        \"51 Information and cultural industries\",\n",
    "        \"52 Finance and insurance\",\n",
    "        \"53 Real estate and rental and leasing\",\n",
    "        \"54 Professional, scientific and technical services\",\n",
    "        \"55 Management of companies and enterprises\",\n",
    "        \"56 Administrative and support, waste management and remediation services\",\n",
    "        \"61 Educational services\",\n",
    "        \"62 Health care and social assistance\",\n",
    "        \"81 Other services (except public administration)\",\n",
    "        \"91 Public administration\",\n",
    "    ],\n",
    "    inplace=True,\n",
    ")\n",
    "census_df.drop(index=[28, 46], inplace=True)\n",
    "\n",
    "# fill in missing values\n",
    "census_df[\"Closed Pharmacies\"].fillna(0, inplace=True)\n",
    "census_df[\"Population, 2021 / Closed Pharmacies\"].fillna(999999, inplace=True)"
   ]
  },
  {
   "cell_type": "code",
   "execution_count": 38,
   "metadata": {},
   "outputs": [],
   "source": [
    "positive_columns = census_df.columns[[1,2,3,4,5,6,7,8,9, 10, 11, 12, 14, 18, 19, 20]]\n",
    "negative_columns = census_df.columns[[16]]\n",
    "\n",
    "rank_df = pd.DataFrame()\n",
    "rank_df['City'] = census_df['City']\n",
    "\n",
    "for cols in positive_columns:\n",
    "    rank_df[cols] = pd.qcut(census_df[cols], 10, labels=False, duplicates='drop') + 1\n",
    "    \n",
    "for cols in negative_columns:\n",
    "    rank_df[cols] = 9 - pd.qcut(census_df[cols], 10, labels=False, duplicates='drop')"
   ]
  },
  {
   "cell_type": "code",
   "execution_count": 39,
   "metadata": {},
   "outputs": [],
   "source": [
    "rank_df['Sum'] = rank_df.sum(axis=1, numeric_only=True)\n",
    "rank_df['Sum Rank'] = rank_df['Sum'].rank(ascending=False)"
   ]
  },
  {
   "cell_type": "code",
   "execution_count": 40,
   "metadata": {},
   "outputs": [],
   "source": [
    "rank_df[['City','Sum', 'Sum Rank']].to_csv('./csv/rank_locations.csv', index=False)"
   ]
  },
  {
   "cell_type": "code",
   "execution_count": null,
   "metadata": {},
   "outputs": [],
   "source": []
  }
 ],
 "metadata": {
  "kernelspec": {
   "display_name": "Python 3",
   "language": "python",
   "name": "python3"
  },
  "language_info": {
   "codemirror_mode": {
    "name": "ipython",
    "version": 3
   },
   "file_extension": ".py",
   "mimetype": "text/x-python",
   "name": "python",
   "nbconvert_exporter": "python",
   "pygments_lexer": "ipython3",
   "version": "3.11.0"
  },
  "orig_nbformat": 4
 },
 "nbformat": 4,
 "nbformat_minor": 2
}
