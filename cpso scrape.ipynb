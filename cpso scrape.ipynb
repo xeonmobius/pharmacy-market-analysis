{
 "cells": [
  {
   "cell_type": "code",
   "execution_count": 168,
   "metadata": {},
   "outputs": [],
   "source": [
    "# Import selenium and its dependencies\n",
    "from selenium import webdriver\n",
    "from selenium.webdriver.common.by import By\n",
    "from selenium.webdriver.common.keys import Keys\n",
    "from selenium.webdriver.support.wait import WebDriverWait\n",
    "from selenium.webdriver.support import expected_conditions as EC\n",
    "\n",
    "# import pandas \n",
    "import pandas as pd"
   ]
  },
  {
   "cell_type": "code",
   "execution_count": 61,
   "metadata": {},
   "outputs": [],
   "source": [
    "# create a dataframe to hold the scrapped data\n",
    "df = pd.DataFrame()\n",
    "\n",
    "# launch the browser driver\n",
    "driver = webdriver.Firefox()\n",
    "\n",
    "# create a list of alphabets to loop through\n",
    "alphabet = list(\"abcdefghijklmnopqrstuvwxyz\")\n"
   ]
  },
  {
   "cell_type": "code",
   "execution_count": 1,
   "metadata": {},
   "outputs": [
    {
     "ename": "NameError",
     "evalue": "name 'alphabet' is not defined",
     "output_type": "error",
     "traceback": [
      "\u001b[1;31m---------------------------------------------------------------------------\u001b[0m",
      "\u001b[1;31mNameError\u001b[0m                                 Traceback (most recent call last)",
      "\u001b[1;32mc:\\Users\\shann\\OneDrive\\Desktop\\OCP_data_validation\\cpso scrape.ipynb Cell 3\u001b[0m line \u001b[0;36m2\n\u001b[0;32m      <a href='vscode-notebook-cell:/c%3A/Users/shann/OneDrive/Desktop/OCP_data_validation/cpso%20scrape.ipynb#W2sZmlsZQ%3D%3D?line=0'>1</a>\u001b[0m \u001b[39m# loop through each letter\u001b[39;00m\n\u001b[1;32m----> <a href='vscode-notebook-cell:/c%3A/Users/shann/OneDrive/Desktop/OCP_data_validation/cpso%20scrape.ipynb#W2sZmlsZQ%3D%3D?line=1'>2</a>\u001b[0m \u001b[39mfor\u001b[39;00m letter \u001b[39min\u001b[39;00m alphabet:\n\u001b[0;32m      <a href='vscode-notebook-cell:/c%3A/Users/shann/OneDrive/Desktop/OCP_data_validation/cpso%20scrape.ipynb#W2sZmlsZQ%3D%3D?line=3'>4</a>\u001b[0m     \u001b[39mprint\u001b[39m(\u001b[39mf\u001b[39m\u001b[39m\"\u001b[39m\u001b[39mNow Scraping: \u001b[39m\u001b[39m{\u001b[39;00mletter\u001b[39m}\u001b[39;00m\u001b[39m\"\u001b[39m)\n\u001b[0;32m      <a href='vscode-notebook-cell:/c%3A/Users/shann/OneDrive/Desktop/OCP_data_validation/cpso%20scrape.ipynb#W2sZmlsZQ%3D%3D?line=5'>6</a>\u001b[0m     \u001b[39m# go to the main CPSO website with the last name search box\u001b[39;00m\n",
      "\u001b[1;31mNameError\u001b[0m: name 'alphabet' is not defined"
     ]
    }
   ],
   "source": [
    "# loop through each letter\n",
    "for letter in alphabet:\n",
    "    \n",
    "    print(f\"Now Scraping: {letter}\")\n",
    "    \n",
    "    # go to the main CPSO website with the last name search box\n",
    "    driver.get(\"https://doctors.cpso.on.ca/?doctors\")\n",
    "    \n",
    "    # clear the searchbox, enter the letter as the last name and then hit enter to searcn\n",
    "    driver.find_element(By.ID, \"p_lt_ctl01_pageplaceholder_p_lt_ctl02_CPSO_AllDoctorsSearch_txtLastNameQuick\").clear()\n",
    "    driver.find_element(By.ID, \"p_lt_ctl01_pageplacehoslder_p_lt_ctl02_CPSO_AllDoctorsSearch_txtLastNameQuick\").send_keys(letter)\n",
    "    driver.find_element(By.ID, \"p_lt_ctl01_pageplaceholder_p_lt_ctl02_CPSO_AllDoctorsSearch_txtLastNameQuick\").send_keys(Keys.ENTER)\n",
    "    \n",
    "    # wait for the last page number to load and then get it\n",
    "    # this also helps the browser wait before getting any other elements\n",
    "    # Other wise break out of the loop and crash \n",
    "    try:\n",
    "        last_page_num = WebDriverWait(driver, 10).until(\n",
    "            EC.presence_of_element_located((By.ID, \"p_lt_ctl01_pageplaceholder_p_lt_ctl03_CPSO_DoctorSearchResults_lnbLastPage\"))\n",
    "            )\n",
    "    except:\n",
    "        break\n",
    "    \n",
    "    # get the last page number as an int\n",
    "    last_page_num = driver.find_element(By.ID, \"p_lt_ctl01_pageplaceholder_p_lt_ctl03_CPSO_DoctorSearchResults_lnbLastPage\").text\n",
    "    last_page_num = int(last_page_num)\n",
    "    \n",
    "    # loop through the nav bar as a multiple of last page number / 5\n",
    "    for i in range(round(last_page_num/5)):\n",
    "        \n",
    "        # loop through the 5 pages that are in the nav bar\n",
    "        for i in range(0, 5):\n",
    "            \n",
    "            # loop through each article tag on the page that contains the doctor information\n",
    "            for article in driver.find_elements(By.TAG_NAME, \"article\"):\n",
    "                \n",
    "                # get the doctor's name\n",
    "                doctor_name = article.find_element(By.TAG_NAME, \"a\").text\n",
    "                \n",
    "                # get the address\n",
    "                address = article.find_element(By.TAG_NAME, \"p\").text\n",
    "                \n",
    "                # save it to the data set\n",
    "                data = {\"doctor name\": doctor_name, \"address\": address}\n",
    "                \n",
    "                # append it to the df\n",
    "                df = pd.concat([df, pd.DataFrame(data, index=[0])], ignore_index=True)\n",
    "            \n",
    "            # click the next page if it exists other wise click the next group button\n",
    "            try:\n",
    "                driver.find_element(By.ID, f\"p_lt_ctl01_pageplaceholder_p_lt_ctl03_CPSO_DoctorSearchResults_rptPages_ctl0{i}_lnbPage\").click()\n",
    "            except:\n",
    "                pass\n",
    "            \n",
    "        # if the last page number exists then click the next page    \n",
    "        # if it doesnt exist then just go to the next letter as the driver is already on the last page\n",
    "        driver.find_element(By.ID, \"p_lt_ctl01_pageplaceholder_p_lt_ctl03_CPSO_DoctorSearchResults_lnbNextGroup\").click()"
   ]
  },
  {
   "cell_type": "code",
   "execution_count": null,
   "metadata": {},
   "outputs": [],
   "source": [
    "# save the df\n",
    "df.to_csv(\"./csv/doctors.csv\")"
   ]
  },
  {
   "cell_type": "code",
   "execution_count": 222,
   "metadata": {},
   "outputs": [],
   "source": [
    "# drop any address that is null \n",
    "df = df[~df[\"address\"].isna()]\n",
    "\n",
    "# split the address based on the \"\\n\"\n",
    "df['address'] = df[\"address\"].str.split(\"\\n\")\n",
    "\n",
    "# use this regex patter to find the string that has the postal code\n",
    "# that string will have the city\n",
    "pattern = r\"\\b[a-zA-Z]\\d[a-zA-Z] \\d[a-zA-Z]\\d\\b\"\n",
    "\n",
    "# loop through each row in the df\n",
    "for iter, row in df.iterrows():\n",
    "    \n",
    "    # go through each string and find the postal code\n",
    "    for string in row[\"address\"]:\n",
    "        postal_code = re.search(pattern, string)\n",
    "        \n",
    "        # if there is a postal code than process the string to find the city\n",
    "        if postal_code:\n",
    "            string = string.replace(postal_code.group(), \"\")\n",
    "            string = string.replace(\"ON\", \"\").strip().title()\n",
    "            row['city'] = string\n",
    "            \n"
   ]
  },
  {
   "cell_type": "code",
   "execution_count": 252,
   "metadata": {},
   "outputs": [],
   "source": [
    "# save the doctor df\n",
    "df.to_csv(\"./csv/doctors.csv\")\n",
    "\n",
    "# save the cumulative city count\n",
    "df['city'].value_counts().to_csv('./csv/doctor_city_count.csv')"
   ]
  }
 ],
 "metadata": {
  "kernelspec": {
   "display_name": "Python 3",
   "language": "python",
   "name": "python3"
  },
  "language_info": {
   "codemirror_mode": {
    "name": "ipython",
    "version": 3
   },
   "file_extension": ".py",
   "mimetype": "text/x-python",
   "name": "python",
   "nbconvert_exporter": "python",
   "pygments_lexer": "ipython3",
   "version": "3.11.0"
  },
  "orig_nbformat": 4
 },
 "nbformat": 4,
 "nbformat_minor": 2
}
