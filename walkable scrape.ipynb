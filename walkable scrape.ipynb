{
 "cells": [
  {
   "cell_type": "code",
   "execution_count": 1,
   "metadata": {},
   "outputs": [],
   "source": [
    "# make our imports\n",
    "import requests\n",
    "from bs4 import BeautifulSoup\n",
    "import pandas as pd\n",
    "\n",
    "census_canada_df = pd.read_csv(\"./csv/census_canada_scrape.csv\")\n",
    "# get the cities we want from the census data\n",
    "cities = census_canada_df['City'].unique().tolist()\n",
    "\n",
    "# base url where we append all the city as a param\n",
    "base_url = f\"https://www.walkscore.com/score\"\n",
    "\n",
    "\n",
    "# for each city try to get the walk score\n",
    "for city in cities:\n",
    "    \n",
    "    # get the page and parse it\n",
    "    page = requests.get(f\"{base_url}/{city}-ontario\")\n",
    "    soup = BeautifulSoup(page.content, \"html.parser\")\n",
    "    \n",
    "    # if the walk score exists, get it or else set it to 0\n",
    "    try:\n",
    "        walk_score = (\n",
    "            soup.find(\"div\", class_=\"block-header-badge score-info-link\")\n",
    "            .find(\"img\", alt=True)\n",
    "            .get(\"alt\")\n",
    "            .split(\" \")[0]\n",
    "        )\n",
    "    except:\n",
    "        walk_score = 0\n",
    "        \n",
    "    # if the bike score exists, get it or else set it to 0\n",
    "    try:\n",
    "        bike_score = soup.find_all(\"div\", {\"data-type\": \"bike\"})[0].find(\"img\").get(\"alt\").split(\" \")[0]\n",
    "    except:\n",
    "        bike_score = 0\n",
    "        \n",
    "    # if the transit score exists, get it or else set it to 0\n",
    "    try:\n",
    "        transit_score = soup.find_all(\"div\", {\"data-type\": \"bike\"})[0].find(\"img\").get(\"alt\").split(\" \")[0]\n",
    "    except:\n",
    "        transit_score = 0\n",
    "    \n",
    "    # set the walk score, bike score, and transit score    \n",
    "    census_canada_df.loc[census_canada_df['City'] == city, 'walk score'] = walk_score\n",
    "    census_canada_df.loc[census_canada_df['City'] == city, 'bike score'] = bike_score\n",
    "    census_canada_df.loc[census_canada_df['City'] == city, 'transit score'] = transit_score    "
   ]
  },
  {
   "cell_type": "code",
   "execution_count": 3,
   "metadata": {},
   "outputs": [],
   "source": [
    "# save to csv\n",
    "census_canada_df.to_csv('./csv/census_canada_scrape.csv')\n"
   ]
  }
 ],
 "metadata": {
  "kernelspec": {
   "display_name": "Python 3",
   "language": "python",
   "name": "python3"
  },
  "language_info": {
   "codemirror_mode": {
    "name": "ipython",
    "version": 3
   },
   "file_extension": ".py",
   "mimetype": "text/x-python",
   "name": "python",
   "nbconvert_exporter": "python",
   "pygments_lexer": "ipython3",
   "version": "3.11.0"
  },
  "orig_nbformat": 4
 },
 "nbformat": 4,
 "nbformat_minor": 2
}
