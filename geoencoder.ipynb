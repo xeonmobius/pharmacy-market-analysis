{
 "cells": [
  {
   "cell_type": "code",
   "execution_count": 72,
   "metadata": {},
   "outputs": [
    {
     "name": "stdout",
     "output_type": "stream",
     "text": [
      "http://localhost:8080/search.php?q=K1H+8K7%2C+Ottawa%2C+ontario&format=jsonv2\n"
     ]
    },
    {
     "ename": "JSONDecodeError",
     "evalue": "Expecting value: line 1 column 1 (char 0)",
     "output_type": "error",
     "traceback": [
      "\u001b[1;31m---------------------------------------------------------------------------\u001b[0m",
      "\u001b[1;31mJSONDecodeError\u001b[0m                           Traceback (most recent call last)",
      "File \u001b[1;32mc:\\Python311\\Lib\\site-packages\\requests\\models.py:971\u001b[0m, in \u001b[0;36mResponse.json\u001b[1;34m(self, **kwargs)\u001b[0m\n\u001b[0;32m    970\u001b[0m \u001b[39mtry\u001b[39;00m:\n\u001b[1;32m--> 971\u001b[0m     \u001b[39mreturn\u001b[39;00m complexjson\u001b[39m.\u001b[39;49mloads(\u001b[39mself\u001b[39;49m\u001b[39m.\u001b[39;49mtext, \u001b[39m*\u001b[39;49m\u001b[39m*\u001b[39;49mkwargs)\n\u001b[0;32m    972\u001b[0m \u001b[39mexcept\u001b[39;00m JSONDecodeError \u001b[39mas\u001b[39;00m e:\n\u001b[0;32m    973\u001b[0m     \u001b[39m# Catch JSON-related errors and raise as requests.JSONDecodeError\u001b[39;00m\n\u001b[0;32m    974\u001b[0m     \u001b[39m# This aliases json.JSONDecodeError and simplejson.JSONDecodeError\u001b[39;00m\n",
      "File \u001b[1;32mc:\\Python311\\Lib\\json\\__init__.py:346\u001b[0m, in \u001b[0;36mloads\u001b[1;34m(s, cls, object_hook, parse_float, parse_int, parse_constant, object_pairs_hook, **kw)\u001b[0m\n\u001b[0;32m    343\u001b[0m \u001b[39mif\u001b[39;00m (\u001b[39mcls\u001b[39m \u001b[39mis\u001b[39;00m \u001b[39mNone\u001b[39;00m \u001b[39mand\u001b[39;00m object_hook \u001b[39mis\u001b[39;00m \u001b[39mNone\u001b[39;00m \u001b[39mand\u001b[39;00m\n\u001b[0;32m    344\u001b[0m         parse_int \u001b[39mis\u001b[39;00m \u001b[39mNone\u001b[39;00m \u001b[39mand\u001b[39;00m parse_float \u001b[39mis\u001b[39;00m \u001b[39mNone\u001b[39;00m \u001b[39mand\u001b[39;00m\n\u001b[0;32m    345\u001b[0m         parse_constant \u001b[39mis\u001b[39;00m \u001b[39mNone\u001b[39;00m \u001b[39mand\u001b[39;00m object_pairs_hook \u001b[39mis\u001b[39;00m \u001b[39mNone\u001b[39;00m \u001b[39mand\u001b[39;00m \u001b[39mnot\u001b[39;00m kw):\n\u001b[1;32m--> 346\u001b[0m     \u001b[39mreturn\u001b[39;00m _default_decoder\u001b[39m.\u001b[39;49mdecode(s)\n\u001b[0;32m    347\u001b[0m \u001b[39mif\u001b[39;00m \u001b[39mcls\u001b[39m \u001b[39mis\u001b[39;00m \u001b[39mNone\u001b[39;00m:\n",
      "File \u001b[1;32mc:\\Python311\\Lib\\json\\decoder.py:337\u001b[0m, in \u001b[0;36mJSONDecoder.decode\u001b[1;34m(self, s, _w)\u001b[0m\n\u001b[0;32m    333\u001b[0m \u001b[39m\u001b[39m\u001b[39m\"\"\"Return the Python representation of ``s`` (a ``str`` instance\u001b[39;00m\n\u001b[0;32m    334\u001b[0m \u001b[39mcontaining a JSON document).\u001b[39;00m\n\u001b[0;32m    335\u001b[0m \n\u001b[0;32m    336\u001b[0m \u001b[39m\"\"\"\u001b[39;00m\n\u001b[1;32m--> 337\u001b[0m obj, end \u001b[39m=\u001b[39m \u001b[39mself\u001b[39;49m\u001b[39m.\u001b[39;49mraw_decode(s, idx\u001b[39m=\u001b[39;49m_w(s, \u001b[39m0\u001b[39;49m)\u001b[39m.\u001b[39;49mend())\n\u001b[0;32m    338\u001b[0m end \u001b[39m=\u001b[39m _w(s, end)\u001b[39m.\u001b[39mend()\n",
      "File \u001b[1;32mc:\\Python311\\Lib\\json\\decoder.py:355\u001b[0m, in \u001b[0;36mJSONDecoder.raw_decode\u001b[1;34m(self, s, idx)\u001b[0m\n\u001b[0;32m    354\u001b[0m \u001b[39mexcept\u001b[39;00m \u001b[39mStopIteration\u001b[39;00m \u001b[39mas\u001b[39;00m err:\n\u001b[1;32m--> 355\u001b[0m     \u001b[39mraise\u001b[39;00m JSONDecodeError(\u001b[39m\"\u001b[39m\u001b[39mExpecting value\u001b[39m\u001b[39m\"\u001b[39m, s, err\u001b[39m.\u001b[39mvalue) \u001b[39mfrom\u001b[39;00m \u001b[39mNone\u001b[39;00m\n\u001b[0;32m    356\u001b[0m \u001b[39mreturn\u001b[39;00m obj, end\n",
      "\u001b[1;31mJSONDecodeError\u001b[0m: Expecting value: line 1 column 1 (char 0)",
      "\nDuring handling of the above exception, another exception occurred:\n",
      "\u001b[1;31mJSONDecodeError\u001b[0m                           Traceback (most recent call last)",
      "\u001b[1;32mc:\\Users\\shann\\OneDrive\\Desktop\\OCP_data_validation\\geoencoder.ipynb Cell 1\u001b[0m line \u001b[0;36m1\n\u001b[0;32m     <a href='vscode-notebook-cell:/c%3A/Users/shann/OneDrive/Desktop/OCP_data_validation/geoencoder.ipynb#W0sZmlsZQ%3D%3D?line=12'>13</a>\u001b[0m req \u001b[39m=\u001b[39m requests\u001b[39m.\u001b[39mget(url)\n\u001b[0;32m     <a href='vscode-notebook-cell:/c%3A/Users/shann/OneDrive/Desktop/OCP_data_validation/geoencoder.ipynb#W0sZmlsZQ%3D%3D?line=13'>14</a>\u001b[0m \u001b[39mtry\u001b[39;00m:\n\u001b[1;32m---> <a href='vscode-notebook-cell:/c%3A/Users/shann/OneDrive/Desktop/OCP_data_validation/geoencoder.ipynb#W0sZmlsZQ%3D%3D?line=14'>15</a>\u001b[0m     lat \u001b[39m=\u001b[39m req\u001b[39m.\u001b[39;49mjson()[\u001b[39m0\u001b[39m][\u001b[39m'\u001b[39m\u001b[39mlat\u001b[39m\u001b[39m'\u001b[39m]\n\u001b[0;32m     <a href='vscode-notebook-cell:/c%3A/Users/shann/OneDrive/Desktop/OCP_data_validation/geoencoder.ipynb#W0sZmlsZQ%3D%3D?line=15'>16</a>\u001b[0m     lon \u001b[39m=\u001b[39m req\u001b[39m.\u001b[39mjson()[\u001b[39m0\u001b[39m][\u001b[39m'\u001b[39m\u001b[39mlon\u001b[39m\u001b[39m'\u001b[39m]\n\u001b[0;32m     <a href='vscode-notebook-cell:/c%3A/Users/shann/OneDrive/Desktop/OCP_data_validation/geoencoder.ipynb#W0sZmlsZQ%3D%3D?line=16'>17</a>\u001b[0m     row[\u001b[39m'\u001b[39m\u001b[39mLatitude\u001b[39m\u001b[39m'\u001b[39m] \u001b[39m=\u001b[39m lat\n",
      "File \u001b[1;32mc:\\Python311\\Lib\\site-packages\\requests\\models.py:975\u001b[0m, in \u001b[0;36mResponse.json\u001b[1;34m(self, **kwargs)\u001b[0m\n\u001b[0;32m    971\u001b[0m     \u001b[39mreturn\u001b[39;00m complexjson\u001b[39m.\u001b[39mloads(\u001b[39mself\u001b[39m\u001b[39m.\u001b[39mtext, \u001b[39m*\u001b[39m\u001b[39m*\u001b[39mkwargs)\n\u001b[0;32m    972\u001b[0m \u001b[39mexcept\u001b[39;00m JSONDecodeError \u001b[39mas\u001b[39;00m e:\n\u001b[0;32m    973\u001b[0m     \u001b[39m# Catch JSON-related errors and raise as requests.JSONDecodeError\u001b[39;00m\n\u001b[0;32m    974\u001b[0m     \u001b[39m# This aliases json.JSONDecodeError and simplejson.JSONDecodeError\u001b[39;00m\n\u001b[1;32m--> 975\u001b[0m     \u001b[39mraise\u001b[39;00m RequestsJSONDecodeError(e\u001b[39m.\u001b[39mmsg, e\u001b[39m.\u001b[39mdoc, e\u001b[39m.\u001b[39mpos)\n",
      "\u001b[1;31mJSONDecodeError\u001b[0m: Expecting value: line 1 column 1 (char 0)"
     ]
    }
   ],
   "source": [
    "import requests\n",
    "import json\n",
    "import pandas as pd\n",
    "\n",
    "from shapely.geometry import Polygon\n",
    "pharmacy_ocp = pd.read_csv('./csv/Fixed OCP Search.csv')\n",
    "\n",
    "for iter, row in pharmacy_ocp.iterrows():\n",
    "    postal_code = str(row['Postal Code']).replace(\" \", \"+\")\n",
    "    city = str(row['City']).replace(\" \", \"+\")\n",
    "    url = f'http://localhost:8080/search.php?q={postal_code}%2C+{city}%2C+ontario&format=jsonv2'\n",
    "    print(url)\n",
    "    req = requests.get(url)\n",
    "    try:\n",
    "        lat = req.json()[0]['lat']\n",
    "        lon = req.json()[0]['lon']\n",
    "        row['Latitude'] = lat\n",
    "        row['Longitude'] = lon\n",
    "    except IndexError as err:\n",
    "        print(err)"
   ]
  },
  {
   "cell_type": "code",
   "execution_count": 74,
   "metadata": {},
   "outputs": [
    {
     "data": {
      "image/svg+xml": [
       "<svg xmlns=\"http://www.w3.org/2000/svg\" xmlns:xlink=\"http://www.w3.org/1999/xlink\" width=\"100.0\" height=\"100.0\" viewBox=\"-79.43864588000001 43.696482120000006 0.32278176000001224 0.17465675999999064\" preserveAspectRatio=\"xMinYMin meet\"><g transform=\"matrix(1,0,0,-1,0,87.567621)\"><path fill-rule=\"evenodd\" fill=\"#66cc99\" stroke=\"#555555\" stroke-width=\"0.006455635200000245\" opacity=\"0.6\" d=\"M -79.426691,43.742409 L -79.424749,43.739378 L -79.421567,43.741416 L -79.418385,43.743455 L -79.414914,43.746954 L -79.409312,43.751175 L -79.406435,43.752793 L -79.401085,43.75631 L -79.390786,43.757826 L -79.388661,43.755853 L -79.38717,43.752577 L -79.386448,43.750395 L -79.386425,43.750279 L -79.384325,43.748988 L -79.384199,43.749013 L -79.382896,43.750992 L -79.38229,43.755019 L -79.379809,43.758684 L -79.378577,43.760294 L -79.371956,43.76377 L -79.366313,43.756423 L -79.361585,43.751835 L -79.360434,43.751165 L -79.359497,43.751161 L -79.35913,43.751241 L -79.34887,43.748076 L -79.346651,43.737363 L -79.346335,43.735373 L -79.346196,43.735263 L -79.344564,43.73411 L -79.338505,43.725016 L -79.339184,43.722561 L -79.338045,43.719146 L -79.330018,43.711358 L -79.327913,43.708437 L -79.326293,43.709605 L -79.32535,43.71041 L -79.324733,43.717188 L -79.324275,43.726015 L -79.324653,43.728234 L -79.324659,43.728252 L -79.322194,43.738318 L -79.318876,43.739392 L -79.316917,43.739853 L -79.316648,43.739888 L -79.310126,43.740244 L -79.309344,43.740344 L -79.309219,43.740373 L -79.304356,43.740951 L -79.304326,43.740957 L -79.296105,43.739813 L -79.292719,43.735679 L -79.290698,43.734635 L -79.285351,43.732186 L -79.281471,43.730477 L -79.277987,43.729091 L -79.26685,43.728681 L -79.257451,43.725749 L -79.255648,43.724208 L -79.252651,43.723772 L -79.24408,43.726343 L -79.243735,43.726719 L -79.24339,43.727299 L -79.24269,43.72856 L -79.235676,43.737305 L -79.235531,43.737619 L -79.234376,43.740052 L -79.22998,43.748609 L -79.223746,43.754494 L -79.221525,43.756124 L -79.220628,43.756846 L -79.216947,43.759775 L -79.214782,43.765038 L -79.211653,43.769364 L -79.210041,43.771072 L -79.207738,43.773684 L -79.197179,43.777819 L -79.191428,43.774641 L -79.190033,43.773456 L -79.188293,43.772365 L -79.188006,43.772427 L -79.186705,43.774829 L -79.183033,43.782122 L -79.18161,43.785429 L -79.170805,43.788877 L -79.163468,43.783704 L -79.162239,43.784459 L -79.158429,43.788387 L -79.150823,43.791808 L -79.144981,43.79522 L -79.141511,43.797401 L -79.132307,43.803232 L -79.13072,43.804139 L -79.127934,43.805697 L -79.127819,43.805991 L -79.129613,43.809112 L -79.130835,43.808409 L -79.132477,43.807282 L -79.135987,43.805199 L -79.146837,43.800444 L -79.147773,43.800501 L -79.150378,43.800742 L -79.150468,43.800725 L -79.152788,43.799703 L -79.160176,43.799699 L -79.164125,43.805448 L -79.164179,43.805622 L -79.169224,43.810561 L -79.171197,43.810119 L -79.171744,43.810007 L -79.172026,43.809944 L -79.178416,43.808535 L -79.186822,43.808203 L -79.195142,43.80977 L -79.203435,43.814493 L -79.201521,43.820293 L -79.202358,43.823794 L -79.204466,43.82329 L -79.215098,43.826396 L -79.22133,43.82968 L -79.229067,43.832774 L -79.231937,43.839164 L -79.232762,43.842668 L -79.236825,43.842989 L -79.237098,43.842931 L -79.247045,43.843683 L -79.250352,43.846045 L -79.256121,43.850915 L -79.257478,43.852182 L -79.265524,43.854467 L -79.274614,43.859184 L -79.277704,43.858531 L -79.283386,43.85733 L -79.283404,43.857065 L -79.283319,43.856376 L -79.283292,43.856305 L -79.284619,43.848117 L -79.294022,43.849525 L -79.304923,43.852363 L -79.30614,43.852019 L -79.308341,43.849827 L -79.312793,43.846316 L -79.320803,43.844131 L -79.32181,43.84388 L -79.32215,43.843794 L -79.324592,43.84065 L -79.327959,43.83649 L -79.32887,43.834854 L -79.329834,43.832769 L -79.3374,43.825924 L -79.343827,43.821359 L -79.34995,43.821238 L -79.350399,43.821264 L -79.350551,43.821232 L -79.358532,43.820436 L -79.362479,43.829135 L -79.357437,43.838471 L -79.358762,43.841819 L -79.368119,43.84481 L -79.370752,43.844312 L -79.371555,43.843737 L -79.37048,43.837453 L -79.366656,43.830429 L -79.363255,43.822318 L -79.360871,43.811187 L -79.360852,43.811141 L -79.357568,43.801296 L -79.357799,43.799271 L -79.359826,43.791632 L -79.368607,43.784641 L -79.368719,43.78378 L -79.368715,43.783765 L -79.367633,43.778852 L -79.373751,43.772384 L -79.375896,43.772046 L -79.377096,43.771959 L -79.377168,43.771946 L -79.388102,43.775146 L -79.389031,43.776249 L -79.390026,43.776101 L -79.390053,43.776097 L -79.390652,43.775999 L -79.391616,43.774364 L -79.400571,43.766524 L -79.401435,43.76546 L -79.410704,43.759964 L -79.41083,43.759936 L -79.411837,43.758083 L -79.411942,43.757797 L -79.415596,43.75106 L -79.424217,43.745398 L -79.424469,43.745297 L -79.426659,43.742687 L -79.426691,43.742409 z\" /></g></svg>"
      ],
      "text/plain": [
       "<POLYGON ((-79.427 43.742, -79.425 43.739, -79.422 43.741, -79.418 43.743, -...>"
      ]
     },
     "execution_count": 74,
     "metadata": {},
     "output_type": "execute_result"
    }
   ],
   "source": [
    "response = requests.post(\n",
    "    \"http://localhost:8080/ors/v2/isochrones/driving-car\",\n",
    "    json={\n",
    "        \"locations\": [\n",
    "            [\n",
    "                -79.27657943558222,\n",
    "                43.79318073359685,\n",
    "            ]\n",
    "        ],\n",
    "        \"range\": [900],\n",
    "    },\n",
    ")\n",
    "\n",
    "Polygon(response.json()[\"features\"][0][\"geometry\"][\"coordinates\"][0])"
   ]
  }
 ],
 "metadata": {
  "kernelspec": {
   "display_name": "Python 3",
   "language": "python",
   "name": "python3"
  },
  "language_info": {
   "codemirror_mode": {
    "name": "ipython",
    "version": 3
   },
   "file_extension": ".py",
   "mimetype": "text/x-python",
   "name": "python",
   "nbconvert_exporter": "python",
   "pygments_lexer": "ipython3",
   "version": "3.11.0"
  },
  "orig_nbformat": 4
 },
 "nbformat": 4,
 "nbformat_minor": 2
}
