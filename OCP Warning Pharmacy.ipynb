{
 "cells": [
  {
   "cell_type": "code",
   "execution_count": 41,
   "metadata": {},
   "outputs": [],
   "source": [
    "# Import selenium and its dependencies\n",
    "from selenium import webdriver\n",
    "from selenium.webdriver.common.by import By\n",
    "from selenium.webdriver.common.keys import Keys\n",
    "from selenium.webdriver.support.wait import WebDriverWait\n",
    "from selenium.webdriver.support import expected_conditions as EC\n",
    "from selenium.common.exceptions import NoSuchElementException, TimeoutException, StaleElementReferenceException\n",
    "\n",
    "# import pandas \n",
    "import pandas as pd\n",
    "import time\n",
    "base_url = \"https://members.ocpinfo.com/tcpr/public/pr/en/#/forms/new/?table=0x800000000000003C&form=0x800000000000002B&command=0x80000000000007C4&donotreload=ShowSRL\"\n",
    "\n",
    "import undetected_chromedriver as uc\n",
    "driver = uc.Chrome(use_subprocess=False)\n",
    "\n",
    "scrape_df = pd.DataFrame()\n",
    "scrape_df[\"name\"] = \"\"\n",
    "scrape_df[\"href\"] = \"\""
   ]
  },
  {
   "cell_type": "code",
   "execution_count": 44,
   "metadata": {},
   "outputs": [
    {
     "name": "stdout",
     "output_type": "stream",
     "text": [
      "Page: 40\n"
     ]
    }
   ],
   "source": [
    "for i in range(40, 41):\n",
    "    \n",
    "    print(f\"Page: {i}\")\n",
    "    \n",
    "    # go the page url and wait 2 seconds for the page to load\n",
    "    driver.get(f\"{base_url}{i}\")\n",
    "    time.sleep(5)\n",
    "    \n",
    "    # check if the element is present\n",
    "    try:\n",
    "        element_present = EC.presence_of_element_located((By.ID, 'SearchReasultList'))\n",
    "        WebDriverWait(driver, 5).until(element_present)\n",
    "    except TimeoutException:\n",
    "        print(\"Timed out waiting for page to load\")\n",
    "    \n",
    "    listings = driver.find_elements(By.CLASS_NAME, \"ResultDiv\")\n",
    "    \n",
    "    for l in listings:\n",
    "        try:\n",
    "            l.find_element(By.TAG_NAME, \"img\")\n",
    "            name = l.text\n",
    "            href = l.find_element(By.TAG_NAME, \"a\").get_attribute(\"href\")\n",
    "            data = {\n",
    "                \"name\": name,\n",
    "                \"href\": href,\n",
    "            }\n",
    "            scrape_df = pd.concat([scrape_df, pd.DataFrame([data])], ignore_index=True)\n",
    "            print(f\"name: {name}\")\n",
    "        except NoSuchElementException:\n",
    "            continue"
   ]
  },
  {
   "cell_type": "code",
   "execution_count": 45,
   "metadata": {},
   "outputs": [
    {
     "data": {
      "text/html": [
       "<div>\n",
       "<style scoped>\n",
       "    .dataframe tbody tr th:only-of-type {\n",
       "        vertical-align: middle;\n",
       "    }\n",
       "\n",
       "    .dataframe tbody tr th {\n",
       "        vertical-align: top;\n",
       "    }\n",
       "\n",
       "    .dataframe thead th {\n",
       "        text-align: right;\n",
       "    }\n",
       "</style>\n",
       "<table border=\"1\" class=\"dataframe\">\n",
       "  <thead>\n",
       "    <tr style=\"text-align: right;\">\n",
       "      <th></th>\n",
       "      <th>name</th>\n",
       "      <th>href</th>\n",
       "    </tr>\n",
       "  </thead>\n",
       "  <tbody>\n",
       "    <tr>\n",
       "      <th>0</th>\n",
       "      <td>Delaware Pharmacy\\nCommunity pharmacy\\n11569 L...</td>\n",
       "      <td>https://members.ocpinfo.com/tcpr/public/pr/en/...</td>\n",
       "    </tr>\n",
       "    <tr>\n",
       "      <th>1</th>\n",
       "      <td>Dover Apothecary\\nCommunity pharmacy\\n328 Main...</td>\n",
       "      <td>https://members.ocpinfo.com/tcpr/public/pr/en/...</td>\n",
       "    </tr>\n",
       "    <tr>\n",
       "      <th>2</th>\n",
       "      <td>Jerry's Pharmacy &amp; Compounding Center\\nCommuni...</td>\n",
       "      <td>https://members.ocpinfo.com/tcpr/public/pr/en/...</td>\n",
       "    </tr>\n",
       "    <tr>\n",
       "      <th>3</th>\n",
       "      <td>Leamington Wellness Pharmacy\\nCommunity pharma...</td>\n",
       "      <td>https://members.ocpinfo.com/tcpr/public/pr/en/...</td>\n",
       "    </tr>\n",
       "    <tr>\n",
       "      <th>4</th>\n",
       "      <td>Lifestyle Pharmacy &amp; Candy Bar I.D.A.\\nCommuni...</td>\n",
       "      <td>https://members.ocpinfo.com/tcpr/public/pr/en/...</td>\n",
       "    </tr>\n",
       "    <tr>\n",
       "      <th>5</th>\n",
       "      <td>Millway Drug Mart Inc\\nCommunity pharmacy\\n6/7...</td>\n",
       "      <td>https://members.ocpinfo.com/tcpr/public/pr/en/...</td>\n",
       "    </tr>\n",
       "    <tr>\n",
       "      <th>6</th>\n",
       "      <td>Noor Healthcare Pharmacy\\nCommunity pharmacy\\n...</td>\n",
       "      <td>https://members.ocpinfo.com/tcpr/public/pr/en/...</td>\n",
       "    </tr>\n",
       "    <tr>\n",
       "      <th>7</th>\n",
       "      <td>Rivermont Pharmacy Guardian\\nCommunity pharmac...</td>\n",
       "      <td>https://members.ocpinfo.com/tcpr/public/pr/en/...</td>\n",
       "    </tr>\n",
       "  </tbody>\n",
       "</table>\n",
       "</div>"
      ],
      "text/plain": [
       "                                                name  \\\n",
       "0  Delaware Pharmacy\\nCommunity pharmacy\\n11569 L...   \n",
       "1  Dover Apothecary\\nCommunity pharmacy\\n328 Main...   \n",
       "2  Jerry's Pharmacy & Compounding Center\\nCommuni...   \n",
       "3  Leamington Wellness Pharmacy\\nCommunity pharma...   \n",
       "4  Lifestyle Pharmacy & Candy Bar I.D.A.\\nCommuni...   \n",
       "5  Millway Drug Mart Inc\\nCommunity pharmacy\\n6/7...   \n",
       "6  Noor Healthcare Pharmacy\\nCommunity pharmacy\\n...   \n",
       "7  Rivermont Pharmacy Guardian\\nCommunity pharmac...   \n",
       "\n",
       "                                                href  \n",
       "0  https://members.ocpinfo.com/tcpr/public/pr/en/...  \n",
       "1  https://members.ocpinfo.com/tcpr/public/pr/en/...  \n",
       "2  https://members.ocpinfo.com/tcpr/public/pr/en/...  \n",
       "3  https://members.ocpinfo.com/tcpr/public/pr/en/...  \n",
       "4  https://members.ocpinfo.com/tcpr/public/pr/en/...  \n",
       "5  https://members.ocpinfo.com/tcpr/public/pr/en/...  \n",
       "6  https://members.ocpinfo.com/tcpr/public/pr/en/...  \n",
       "7  https://members.ocpinfo.com/tcpr/public/pr/en/...  "
      ]
     },
     "execution_count": 45,
     "metadata": {},
     "output_type": "execute_result"
    }
   ],
   "source": [
    "scrape_df"
   ]
  },
  {
   "cell_type": "code",
   "execution_count": 46,
   "metadata": {},
   "outputs": [],
   "source": [
    "scrape_df.to_csv(\"warning pharmacy.csv\" , index=False)"
   ]
  }
 ],
 "metadata": {
  "kernelspec": {
   "display_name": "Python 3",
   "language": "python",
   "name": "python3"
  },
  "language_info": {
   "codemirror_mode": {
    "name": "ipython",
    "version": 3
   },
   "file_extension": ".py",
   "mimetype": "text/x-python",
   "name": "python",
   "nbconvert_exporter": "python",
   "pygments_lexer": "ipython3",
   "version": "3.11.0"
  },
  "orig_nbformat": 4
 },
 "nbformat": 4,
 "nbformat_minor": 2
}
